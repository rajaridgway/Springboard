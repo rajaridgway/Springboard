{
 "cells": [
  {
   "cell_type": "markdown",
   "metadata": {},
   "source": [
    "This exercise will require you to pull some data from the Qunadl API. Qaundl is currently the most widely used aggregator of financial market data."
   ]
  },
  {
   "cell_type": "markdown",
   "metadata": {},
   "source": [
    "As a first step, you will need to register a free account on the http://www.quandl.com website."
   ]
  },
  {
   "cell_type": "markdown",
   "metadata": {},
   "source": [
    "After you register, you will be provided with a unique API key, that you should store:"
   ]
  },
  {
   "cell_type": "code",
   "execution_count": 1,
   "metadata": {
    "jupyter": {
     "outputs_hidden": true
    }
   },
   "outputs": [],
   "source": [
    "# Store the API key as a string - according to PEP8, constants are always named in all upper case\n",
    "API_KEY = ''"
   ]
  },
  {
   "cell_type": "markdown",
   "metadata": {},
   "source": [
    "Qaundl has a large number of data sources, but, unfortunately, most of them require a Premium subscription. Still, there are also a good number of free datasets."
   ]
  },
  {
   "cell_type": "markdown",
   "metadata": {},
   "source": [
    "For this mini project, we will focus on equities data from the Frankfurt Stock Exhange (FSE), which is available for free. We'll try and analyze the stock prices of a company called Carl Zeiss Meditec, which manufactures tools for eye examinations, as well as medical lasers for laser eye surgery: https://www.zeiss.com/meditec/int/home.html. The company is listed under the stock ticker AFX_X."
   ]
  },
  {
   "cell_type": "markdown",
   "metadata": {},
   "source": [
    "You can find the detailed Quandl API instructions here: https://docs.quandl.com/docs/time-series"
   ]
  },
  {
   "cell_type": "markdown",
   "metadata": {},
   "source": [
    "While there is a dedicated Python package for connecting to the Quandl API, we would prefer that you use the *requests* package, which can be easily downloaded using *pip* or *conda*. You can find the documentation for the package here: http://docs.python-requests.org/en/master/ "
   ]
  },
  {
   "cell_type": "markdown",
   "metadata": {},
   "source": [
    "Finally, apart from the *requests* package, you are encouraged to not use any third party Python packages, such as *pandas*, and instead focus on what's available in the Python Standard Library (the *collections* module might come in handy: https://pymotw.com/3/collections/ ).\n",
    "Also, since you won't have access to DataFrames, you are encouraged to us Python's native data structures - preferably dictionaries, though some questions can also be answered using lists.\n",
    "You can read more on these data structures here: https://docs.python.org/3/tutorial/datastructures.html"
   ]
  },
  {
   "cell_type": "markdown",
   "metadata": {},
   "source": [
    "Keep in mind that the JSON responses you will be getting from the API map almost one-to-one to Python's dictionaries. Unfortunately, they can be very nested, so make sure you read up on indexing dictionaries in the documentation provided above."
   ]
  },
  {
   "cell_type": "code",
   "execution_count": 2,
   "metadata": {
    "jupyter": {
     "outputs_hidden": true
    }
   },
   "outputs": [],
   "source": [
    "# First, import the relevant modules\n",
    "import requests\n",
    "import json\n",
    "from collections import defaultdict"
   ]
  },
  {
   "cell_type": "markdown",
   "metadata": {},
   "source": [
    "Note: API's can change a bit with each version, for this exercise it is reccomended to use the \"V3\" quandl api at `https://www.quandl.com/api/v3/`"
   ]
  },
  {
   "cell_type": "code",
   "execution_count": 3,
   "metadata": {
    "jupyter": {
     "outputs_hidden": true
    }
   },
   "outputs": [],
   "source": [
    "# Now, call the Quandl API and pull out a small sample of the data (only one day) to get a glimpse\n",
    "# into the JSON structure that will be returned\n",
    "url = \"https://data.nasdaq.com/api/v3/datasets/FSE/AFX_X/data.json?\"\n",
    "params = dict(api_key = API_KEY, start_date='2017-01-01', end_date = '2017-01-05')\n",
    "res = requests.get(url, params=params) "
   ]
  },
  {
   "cell_type": "code",
   "execution_count": 4,
   "metadata": {
    "jupyter": {
     "outputs_hidden": true
    }
   },
   "outputs": [
    {
     "name": "stdout",
     "output_type": "stream",
     "text": [
      "{\n",
      " \"dataset_data\": {\n",
      "  \"limit\": null,\n",
      "  \"transform\": null,\n",
      "  \"column_index\": null,\n",
      "  \"column_names\": [\n",
      "   \"Date\",\n",
      "   \"Open\",\n",
      "   \"High\",\n",
      "   \"Low\",\n",
      "   \"Close\",\n",
      "   \"Change\",\n",
      "   \"Traded Volume\",\n",
      "   \"Turnover\",\n",
      "   \"Last Price of the Day\",\n",
      "   \"Daily Traded Units\",\n",
      "   \"Daily Turnover\"\n",
      "  ],\n",
      "  \"start_date\": \"2017-01-01\",\n",
      "  \"end_date\": \"2017-01-05\",\n",
      "  \"frequency\": \"daily\",\n",
      "  \"data\": [\n",
      "   [\n",
      "    \"2017-01-05\",\n",
      "    35.02,\n",
      "    35.2,\n",
      "    34.73,\n",
      "    35.06,\n",
      "    null,\n",
      "    48412.0,\n",
      "    1692326.0,\n",
      "    null,\n",
      "    null,\n",
      "    null\n",
      "   ],\n",
      "   [\n",
      "    \"2017-01-04\",\n",
      "    35.48,\n",
      "    35.51,\n",
      "    34.75,\n",
      "    35.19,\n",
      "    null,\n",
      "    54408.0,\n",
      "    1906810.0,\n",
      "    null,\n",
      "    null,\n",
      "    null\n",
      "   ],\n",
      "   [\n",
      "    \"2017-01-03\",\n",
      "    35.9,\n",
      "    35.93,\n",
      "    35.34,\n",
      "    35.48,\n",
      "    null,\n",
      "    70618.0,\n",
      "    2515473.0,\n",
      "    null,\n",
      "    null,\n",
      "    null\n",
      "   ],\n",
      "   [\n",
      "    \"2017-01-02\",\n",
      "    34.99,\n",
      "    35.94,\n",
      "    34.99,\n",
      "    35.8,\n",
      "    null,\n",
      "    44700.0,\n",
      "    1590561.0,\n",
      "    null,\n",
      "    null,\n",
      "    null\n",
      "   ]\n",
      "  ],\n",
      "  \"collapse\": null,\n",
      "  \"order\": null\n",
      " }\n",
      "}\n"
     ]
    }
   ],
   "source": [
    "# Inspect the JSON structure of the object you created, and take note of how nested it is,\n",
    "# as well as the overall structure\n",
    "json_data = json.loads(res.text)\n",
    "print(json.dumps(json_data, indent = 1))"
   ]
  },
  {
   "cell_type": "markdown",
   "metadata": {},
   "source": [
    "The dictionary that is produced is a nested dictionary. To access the data, you need to use indexing similar to what is shown here: https://www.programiz.com/python-programming/nested-dictionary"
   ]
  },
  {
   "cell_type": "code",
   "execution_count": 5,
   "metadata": {},
   "outputs": [
    {
     "name": "stdout",
     "output_type": "stream",
     "text": [
      "2017-01-05\n"
     ]
    }
   ],
   "source": [
    "# Access data in the nested dictionary\n",
    "print(json_data[\"dataset_data\"]['data'][0][0]) #The first zero provides the full dataset for the indexed day"
   ]
  },
  {
   "cell_type": "markdown",
   "metadata": {},
   "source": [
    "These are your tasks for this mini project:\n",
    "\n",
    "1. Collect data from the Franfurt Stock Exchange, for the ticker AFX_X, for the whole year 2017 (keep in mind that the date format is YYYY-MM-DD).\n",
    "2. Convert the returned JSON object into a Python dictionary.\n",
    "3. Calculate what the highest and lowest opening prices were for the stock in this period.\n",
    "4. What was the largest change in any one day (based on High and Low price)?\n",
    "5. What was the largest change between any two days (based on Closing Price)?\n",
    "6. What was the average daily trading volume during this year?\n",
    "7. (Optional) What was the median trading volume during this year. (Note: you may need to implement your own function for calculating the median.)"
   ]
  },
  {
   "cell_type": "markdown",
   "metadata": {
    "collapsed": true,
    "jupyter": {
     "outputs_hidden": true
    }
   },
   "source": [
    "## Task 1: Collecting Data"
   ]
  },
  {
   "cell_type": "code",
   "execution_count": 6,
   "metadata": {},
   "outputs": [],
   "source": [
    "url = \"https://data.nasdaq.com/api/v3/datasets/FSE/AFX_X/data.json?\"\n",
    "params = dict(api_key = API_KEY, start_date='2017-01-01', end_date = '2017-12-31')\n",
    "res = requests.get(url, params=params) "
   ]
  },
  {
   "cell_type": "markdown",
   "metadata": {},
   "source": [
    "## Task 2: Convert JSON to Python Dictionary"
   ]
  },
  {
   "cell_type": "code",
   "execution_count": 7,
   "metadata": {},
   "outputs": [],
   "source": [
    "json_data = res.json()"
   ]
  },
  {
   "cell_type": "markdown",
   "metadata": {},
   "source": [
    "## Task 3: Calculate Highest and Lowest Opening Prices"
   ]
  },
  {
   "cell_type": "code",
   "execution_count": 8,
   "metadata": {},
   "outputs": [],
   "source": [
    "# Create a dictionary of all the dates and opening prices\n",
    "\n",
    "#Create an empty dictionary to store the opening prices\n",
    "opening_prices = {'Date': [], 'Opening Price': []}\n",
    "\n",
    "# Loop through the data lists \n",
    "for i in range(len(json_data['dataset_data']['data'])):\n",
    "    opening_prices['Date'].append(json_data['dataset_data']['data'][i][0])\n",
    "    opening_prices['Opening Price'].append(json_data['dataset_data']['data'][i][1])\n",
    "\n",
    "#opening_prices"
   ]
  },
  {
   "cell_type": "code",
   "execution_count": 9,
   "metadata": {},
   "outputs": [],
   "source": [
    "# Create a dictionary of all the dates and opening prices (verison 2)\n",
    "\n",
    "#Create an empty dictionary to store the opening prices\n",
    "opening_prices_2 = {}\n",
    "\n",
    "# Loop through the data lists \n",
    "for i in range(len(json_data['dataset_data']['data'])):\n",
    "    opening_prices_2[json_data['dataset_data']['data'][i][0]] = json_data['dataset_data']['data'][i][1]\n",
    "\n",
    "#opening_prices_2"
   ]
  },
  {
   "cell_type": "code",
   "execution_count": 10,
   "metadata": {},
   "outputs": [],
   "source": [
    "# Create a clean dictionary that doesn't have any None values (adapted from: https://stackoverflow.com/questions/33797126/proper-way-to-remove-keys-in-dictionary-with-none-values-in-python)\n",
    "opening_prices_clean = {k: v for k, v in opening_prices_2.items() if v is not None}"
   ]
  },
  {
   "cell_type": "code",
   "execution_count": 11,
   "metadata": {},
   "outputs": [
    {
     "name": "stdout",
     "output_type": "stream",
     "text": [
      "The highest opening price was $53.11.\n"
     ]
    }
   ],
   "source": [
    "# Find the max opening price in the clean version of the dictionary (adapted from: https://www.kite.com/python/answers/how-to-find-the-max-value-in-a-dictionary-in-python)\n",
    "\n",
    "all_opening_prices = opening_prices_clean.values()\n",
    "max_value = max(all_opening_prices)\n",
    "\n",
    "print('The highest opening price was $'+ str(max_value) + '.')"
   ]
  },
  {
   "cell_type": "code",
   "execution_count": 12,
   "metadata": {},
   "outputs": [],
   "source": [
    "# Determine the date for the maximum opening price\n",
    "max_date = list(opening_prices_2.keys())[list(opening_prices_2.values()).index(max_value)]"
   ]
  },
  {
   "cell_type": "code",
   "execution_count": 13,
   "metadata": {},
   "outputs": [
    {
     "name": "stdout",
     "output_type": "stream",
     "text": [
      "The higest opening price was $53.11 on 2017-12-14.\n"
     ]
    }
   ],
   "source": [
    "# Create an output statement that includes the maximum opening price and date\n",
    "print('The higest opening price was $'+ str(max_value) + ' on ' + max_date + '.')"
   ]
  },
  {
   "cell_type": "code",
   "execution_count": 14,
   "metadata": {},
   "outputs": [
    {
     "name": "stdout",
     "output_type": "stream",
     "text": [
      "The lowest opening price was $34.0 on 2017-01-24.\n"
     ]
    }
   ],
   "source": [
    "# Find the min opening price\n",
    "min_value = min(all_opening_prices)\n",
    "min_date = list(opening_prices_2.keys())[list(opening_prices_2.values()).index(min_value)]\n",
    "print('The lowest opening price was $'+ str(min_value) + ' on ' + min_date + '.')"
   ]
  },
  {
   "cell_type": "markdown",
   "metadata": {},
   "source": [
    "## Task 4: Calculate the Largest Change in Any One Day"
   ]
  },
  {
   "cell_type": "code",
   "execution_count": 15,
   "metadata": {},
   "outputs": [],
   "source": [
    "# Create a dictionary of all the dates and change between high and low prices\n",
    "\n",
    "#Create an empty dictionary to store the dates and change between high and low\n",
    "change_dict = {}\n",
    "\n",
    "# Append the change between high and low to a list\n",
    "for i in range(len(json_data['dataset_data']['data'])):\n",
    "    change_dict[json_data['dataset_data']['data'][i][0]] = json_data['dataset_data']['data'][i][2] - json_data['dataset_data']['data'][i][3]\n",
    "\n",
    "#change_dict"
   ]
  },
  {
   "cell_type": "code",
   "execution_count": 16,
   "metadata": {},
   "outputs": [
    {
     "name": "stdout",
     "output_type": "stream",
     "text": [
      "The largest change in any one day was $2.81 on 2017-05-11.\n"
     ]
    }
   ],
   "source": [
    "# Find the maximum difference and print statement with date (formating from: https://stackoverflow.com/questions/455612/limiting-floats-to-two-decimal-points)\n",
    "all_price_changes = change_dict.values()\n",
    "max_change = max(all_price_changes)\n",
    "max_change_date = list(change_dict.keys())[list(change_dict.values()).index(max_change)]\n",
    "\n",
    "print('The largest change in any one day was $' + str(\"%.2f\" % max_change) + ' on ' + max_change_date + '.')"
   ]
  },
  {
   "cell_type": "markdown",
   "metadata": {},
   "source": [
    "## Task 5: Calculate the Largest Change Between Any Two Days (based on Closing Price)?"
   ]
  },
  {
   "cell_type": "code",
   "execution_count": 17,
   "metadata": {},
   "outputs": [],
   "source": [
    "# Create a dictionary of all the date, and changes between two days\n",
    "\n",
    "#Create an empty dictionary to store the dates and changes between two days\n",
    "close_change = {}\n",
    "\n",
    "# Append the change between closings of two consecutive days to a list\n",
    "for i in range(len(json_data['dataset_data']['data'])):\n",
    "    close_change[json_data['dataset_data']['data'][i-1][0]] = json_data['dataset_data']['data'][i-1][4] - json_data['dataset_data']['data'][i][4]\n",
    "\n",
    "#close_change"
   ]
  },
  {
   "cell_type": "code",
   "execution_count": 18,
   "metadata": {},
   "outputs": [
    {
     "name": "stdout",
     "output_type": "stream",
     "text": [
      "The largest change between any two days, based on closing price, was $1.72 began on 2017-05-11.\n"
     ]
    }
   ],
   "source": [
    "# Find the maximum difference and print statement with date (formating from: https://stackoverflow.com/questions/455612/limiting-floats-to-two-decimal-points)\n",
    "all_close_changes = close_change.values()\n",
    "max_close_change = max(all_close_changes)\n",
    "max_close_change_date = list(close_change.keys())[list(close_change.values()).index(max_close_change)]\n",
    "\n",
    "print('The largest change between any two days, based on closing price, was $' + str(\"%.2f\" % max_close_change) + ' began on ' + max_close_change_date + '.')"
   ]
  },
  {
   "cell_type": "markdown",
   "metadata": {},
   "source": [
    "## Task 6: What was the Average Daily Trading Volume During this Year?"
   ]
  },
  {
   "cell_type": "code",
   "execution_count": 19,
   "metadata": {},
   "outputs": [],
   "source": [
    "# Create a dictionary of all the dates and trading volumes\n",
    "\n",
    "#Create an empty dictionary to store the opening prices\n",
    "trading_vols = {}\n",
    "\n",
    "# Loop through the data lists \n",
    "for i in range(len(json_data['dataset_data']['data'])):\n",
    "    trading_vols[json_data['dataset_data']['data'][i][0]] = json_data['dataset_data']['data'][i][6]\n",
    "\n",
    "#trading_vols"
   ]
  },
  {
   "cell_type": "code",
   "execution_count": 20,
   "metadata": {},
   "outputs": [
    {
     "name": "stdout",
     "output_type": "stream",
     "text": [
      "The average daily trading volume was 89124.\n"
     ]
    }
   ],
   "source": [
    "# Find the mean trading volume \n",
    "all_trading_vols = trading_vols.values()\n",
    "avg_trading_vols = sum(all_trading_vols)/len(trading_vols)\n",
    "\n",
    "print('The average daily trading volume was ' + str(\"%.0f\" % avg_trading_vols) + '.')"
   ]
  },
  {
   "cell_type": "code",
   "execution_count": null,
   "metadata": {},
   "outputs": [],
   "source": []
  }
 ],
 "metadata": {
  "kernelspec": {
   "display_name": "Python 3",
   "language": "python",
   "name": "python3"
  },
  "language_info": {
   "codemirror_mode": {
    "name": "ipython",
    "version": 3
   },
   "file_extension": ".py",
   "mimetype": "text/x-python",
   "name": "python",
   "nbconvert_exporter": "python",
   "pygments_lexer": "ipython3",
   "version": "3.8.8"
  },
  "toc": {
   "base_numbering": 1,
   "nav_menu": {},
   "number_sections": true,
   "sideBar": true,
   "skip_h1_title": false,
   "title_cell": "Table of Contents",
   "title_sidebar": "Contents",
   "toc_cell": false,
   "toc_position": {},
   "toc_section_display": true,
   "toc_window_display": true
  }
 },
 "nbformat": 4,
 "nbformat_minor": 4
}
