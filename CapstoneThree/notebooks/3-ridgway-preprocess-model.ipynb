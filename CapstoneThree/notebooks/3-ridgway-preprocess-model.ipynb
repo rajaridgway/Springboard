{
 "cells": [
  {
   "cell_type": "markdown",
   "id": "1f9d1afa-da44-4fbd-b5f7-de70057ad2ec",
   "metadata": {
    "tags": []
   },
   "source": [
    "# Using Yelp Data to Recommend the Location of the Next Lou Malnati: Preprocessing, Training, and Modeling \n",
    "Chicago pizza magnate Lou Malnati is looking to expand his national pizza empire. With 59 locations in Illinois, seven in Arizona, four in Wisconsin, and four in Indiana. Malnati is interested in potentially expanding both within Arizona and Indiana and to other states. In particular, Malnati is interested in Florida, Pennsylvania, New Jersey, and Missouri. \n",
    "Malnati’s restaurants are known for their deep dish pizza, and are looking for locations that either might not have deep dish options or locations where the pizza options are not satisfying consumers. Malnati's team believes that they can both introduce deep dish to new customers and lure currently unsatisfied customers with their nationally recognized pizza brand. \n",
    "Malnati’s team has requested an analysis of the existing landscape in the four new states along with Arizona and Indiana. They want to understand which state holds the most promise for more or more new locations. Ideally, they would like to open up multiple locations and want to know whether one of the new states would be a better option than continuing to open up restaurants in Arizona and Indiana.\n",
    "\n",
    "**The purpose of this notebook is to pre-process the data, to split the data into training and test sets, and to build and evaluate several models for predicting the star rating based on the comment.**"
   ]
  },
  {
   "cell_type": "markdown",
   "id": "56d184f7-6394-4333-9315-c327e2062873",
   "metadata": {
    "tags": []
   },
   "source": [
    "## Data Sources\n",
    "All data has been downloaded directly from [Yelp](https://www.yelp.com/dataset):\n",
    "\n",
    "1. yelp_academic_dataset_business.json: contains business data including location data, attributes, and categories\n",
    "2. yelp_academic_dataset_review.json: contains full review text data including the user_id that wrote the review and the business_id the review is written for.\n",
    "\n",
    "The data was loaded and read into pandas dataframes in the 1-ridgway-read-data notebook. The dataframes were filtered for only businesses with \"pizza\" in the categories and then pickled. The pickled datasets were then cleaned, merged, the text feature was prepared (e.g., tokenization, lemminization), and pickled once again:\n",
    "\n",
    "- processed.pkl: pickled dataframe containing reviews and select business information for pizza businesses in select states"
   ]
  },
  {
   "cell_type": "markdown",
   "id": "31a9e703-2443-4e15-a406-e2408d2ee122",
   "metadata": {},
   "source": [
    "## Changes\n",
    "- 03-21-22: Started pre-processing\n",
    "- 03-28-22: Models, comparison, and hyper parameter tuning\n",
    "- 03-29-22: Finalized notebook"
   ]
  },
  {
   "cell_type": "markdown",
   "id": "32dba44d-f2dc-44d6-9bf6-e6b00ff253e7",
   "metadata": {},
   "source": [
    "## Summary of Pre-Processing and Modeling"
   ]
  },
  {
   "cell_type": "markdown",
   "id": "33d8689a-979e-4762-b7ea-8594b700dc79",
   "metadata": {},
   "source": [
    "1. **Load Dataset:** The dataset from the EDA notebook was loaded.\n",
    "2. **Sentiment Analysis:** Vader sentiment analysis was conducted to identify the top positive and negative comments. The dataset skewed toward positive comments with 95% of the comments being classified as positive. This was an interesting result given that only 74% of the scores were positive (i.e., given 4-5 stars).\n",
    "3. **Split for Training:** The dataset was split using an 80/20 split for training/testing.\n",
    "4. **Modeling:** Three models were developed, including Naive Bayes, logistic regression, and a random forest classifer.\n",
    "5. **Model Comparison:** The logistic regression model out-performed the other two models on all metrics, including accuracy, F1, and lift.\n",
    "6. **Hyper Parameter Tuning:** The logistic regression model was tuned using GridSearchCV resulting in ~2% increase in accuracy."
   ]
  },
  {
   "cell_type": "markdown",
   "id": "0f46c6a1-e019-4b1b-922b-04749d2a5372",
   "metadata": {
    "tags": []
   },
   "source": [
    "## Import Libraries"
   ]
  },
  {
   "cell_type": "code",
   "execution_count": 1,
   "id": "001122c0-e3a4-4be8-bcfe-86fc70dfc6f8",
   "metadata": {},
   "outputs": [],
   "source": [
    "import pandas as pd\n",
    "import numpy as np\n",
    "import matplotlib.pyplot as plt\n",
    "import seaborn as sns\n",
    "\n",
    "import nltk\n",
    "#nltk.download('vader_lexicon')\n",
    "from vaderSentiment.vaderSentiment import SentimentIntensityAnalyzer\n",
    "from sklearn.model_selection import train_test_split\n",
    "from sklearn.feature_extraction.text import TfidfVectorizer\n",
    "from sklearn.feature_extraction.text import CountVectorizer\n",
    "from sklearn.naive_bayes import MultinomialNB\n",
    "from sklearn.pipeline import Pipeline\n",
    "from sklearn.feature_extraction.text import TfidfTransformer\n",
    "from sklearn.metrics import classification_report\n",
    "from sklearn.linear_model import LogisticRegression\n",
    "from sklearn.ensemble import RandomForestClassifier\n",
    "from sklearn.metrics import f1_score\n",
    "from sklearn.metrics import auc, roc_curve, roc_auc_score\n",
    "from mlxtend.evaluate import lift_score\n",
    "from sklearn.model_selection import cross_val_score\n",
    "from sklearn.model_selection import GridSearchCV"
   ]
  },
  {
   "cell_type": "markdown",
   "id": "14e54945-6653-405e-a0f6-7e9369b10c0f",
   "metadata": {
    "tags": []
   },
   "source": [
    "## File Locations"
   ]
  },
  {
   "cell_type": "code",
   "execution_count": 2,
   "id": "d5a6aeb6-b526-470e-a03d-f4f3314bfd00",
   "metadata": {},
   "outputs": [],
   "source": [
    "processed_df = '../data/processed/processed.pkl'"
   ]
  },
  {
   "cell_type": "markdown",
   "id": "3e8da1c2-e402-43d1-aeaf-99083c7e2428",
   "metadata": {
    "tags": []
   },
   "source": [
    "## Load Data"
   ]
  },
  {
   "cell_type": "code",
   "execution_count": 3,
   "id": "50b66967-7434-407d-a076-86448f1d0c33",
   "metadata": {},
   "outputs": [],
   "source": [
    "df = pd.read_pickle(processed_df)"
   ]
  },
  {
   "cell_type": "code",
   "execution_count": 4,
   "id": "bfe80448-e5ce-4aed-85c6-2c310d574108",
   "metadata": {},
   "outputs": [],
   "source": [
    "# Scale back to only include the cleaned, lemmatized text in a string format and the binary rating\n",
    "df = df[['text_for_cloud_lemmatized', 'binary_rating']]\n",
    "df.columns = ['text', 'pos_rating']"
   ]
  },
  {
   "cell_type": "code",
   "execution_count": 5,
   "id": "3f9d72d5-2ca7-4d39-8829-a3fc7ec139bd",
   "metadata": {},
   "outputs": [
    {
     "data": {
      "text/html": [
       "<div>\n",
       "<style scoped>\n",
       "    .dataframe tbody tr th:only-of-type {\n",
       "        vertical-align: middle;\n",
       "    }\n",
       "\n",
       "    .dataframe tbody tr th {\n",
       "        vertical-align: top;\n",
       "    }\n",
       "\n",
       "    .dataframe thead th {\n",
       "        text-align: right;\n",
       "    }\n",
       "</style>\n",
       "<table border=\"1\" class=\"dataframe\">\n",
       "  <thead>\n",
       "    <tr style=\"text-align: right;\">\n",
       "      <th></th>\n",
       "      <th>text</th>\n",
       "      <th>pos_rating</th>\n",
       "    </tr>\n",
       "  </thead>\n",
       "  <tbody>\n",
       "    <tr>\n",
       "      <th>2527</th>\n",
       "      <td>nice italian restauranthowever previous visit ...</td>\n",
       "      <td>0.0</td>\n",
       "    </tr>\n",
       "    <tr>\n",
       "      <th>3471</th>\n",
       "      <td>today ethiopian food fiasco see selam review l...</td>\n",
       "      <td>1.0</td>\n",
       "    </tr>\n",
       "    <tr>\n",
       "      <th>3473</th>\n",
       "      <td>delicious wish take reservation friend fiance ...</td>\n",
       "      <td>1.0</td>\n",
       "    </tr>\n",
       "    <tr>\n",
       "      <th>3480</th>\n",
       "      <td>im sure havent write review pi time time take ...</td>\n",
       "      <td>1.0</td>\n",
       "    </tr>\n",
       "    <tr>\n",
       "      <th>3482</th>\n",
       "      <td>deep dish pizza fantastic like reviewer mentio...</td>\n",
       "      <td>1.0</td>\n",
       "    </tr>\n",
       "  </tbody>\n",
       "</table>\n",
       "</div>"
      ],
      "text/plain": [
       "                                                   text  pos_rating\n",
       "2527  nice italian restauranthowever previous visit ...         0.0\n",
       "3471  today ethiopian food fiasco see selam review l...         1.0\n",
       "3473  delicious wish take reservation friend fiance ...         1.0\n",
       "3480  im sure havent write review pi time time take ...         1.0\n",
       "3482  deep dish pizza fantastic like reviewer mentio...         1.0"
      ]
     },
     "execution_count": 5,
     "metadata": {},
     "output_type": "execute_result"
    }
   ],
   "source": [
    "df.head()"
   ]
  },
  {
   "cell_type": "markdown",
   "id": "2b03a660-38b5-4e4b-b695-76ca87135831",
   "metadata": {},
   "source": [
    "## Sentiment Analysis\n",
    "Adapted from https://github.com/nhcamp/Yelp-Burrito-Reviews/blob/master/Capstone%202.ipynb and https://github.com/jonathanoheix/Sentiment-analysis-with-hotel-reviews/blob/master/Sentiment%20analysis%20with%20hotel%20reviews.ipynb"
   ]
  },
  {
   "cell_type": "code",
   "execution_count": 6,
   "id": "7861ada9-0f55-4555-8963-1abee6186e49",
   "metadata": {},
   "outputs": [],
   "source": [
    "# Define a function to caluclate the polarity scores using Vader sentiment analysis\n",
    "def apply_sentiment_intensity_analysis(sentence):\n",
    "    \"\"\"Applies the polarity scores function to a sentence. Used with df.apply(), returns dictionary. \n",
    "    \"\"\"\n",
    "    analyzer = SentimentIntensityAnalyzer()\n",
    "    polarity_dict = analyzer.polarity_scores(sentence)\n",
    "    return polarity_dict\n",
    "\n",
    "df['polarity_score'] = df['text'].apply(lambda x: apply_sentiment_intensity_analysis(x))"
   ]
  },
  {
   "cell_type": "code",
   "execution_count": 7,
   "id": "5683032c-e786-40cd-a7d2-06baa4598785",
   "metadata": {},
   "outputs": [],
   "source": [
    "# Split out the various scores\n",
    "df = pd.concat([df.drop(['polarity_score'], axis=1), df['polarity_score'].apply(pd.Series)], axis=1)"
   ]
  },
  {
   "cell_type": "code",
   "execution_count": 8,
   "id": "5e76ae50-973a-4fc0-98c3-20ef210831cc",
   "metadata": {},
   "outputs": [
    {
     "data": {
      "text/html": [
       "<div>\n",
       "<style scoped>\n",
       "    .dataframe tbody tr th:only-of-type {\n",
       "        vertical-align: middle;\n",
       "    }\n",
       "\n",
       "    .dataframe tbody tr th {\n",
       "        vertical-align: top;\n",
       "    }\n",
       "\n",
       "    .dataframe thead th {\n",
       "        text-align: right;\n",
       "    }\n",
       "</style>\n",
       "<table border=\"1\" class=\"dataframe\">\n",
       "  <thead>\n",
       "    <tr style=\"text-align: right;\">\n",
       "      <th></th>\n",
       "      <th>text</th>\n",
       "      <th>pos_rating</th>\n",
       "      <th>neg</th>\n",
       "      <th>neu</th>\n",
       "      <th>pos</th>\n",
       "      <th>compound</th>\n",
       "    </tr>\n",
       "  </thead>\n",
       "  <tbody>\n",
       "    <tr>\n",
       "      <th>2527</th>\n",
       "      <td>nice italian restauranthowever previous visit ...</td>\n",
       "      <td>0.0</td>\n",
       "      <td>0.103</td>\n",
       "      <td>0.675</td>\n",
       "      <td>0.221</td>\n",
       "      <td>0.9840</td>\n",
       "    </tr>\n",
       "    <tr>\n",
       "      <th>3471</th>\n",
       "      <td>today ethiopian food fiasco see selam review l...</td>\n",
       "      <td>1.0</td>\n",
       "      <td>0.046</td>\n",
       "      <td>0.779</td>\n",
       "      <td>0.175</td>\n",
       "      <td>0.8519</td>\n",
       "    </tr>\n",
       "    <tr>\n",
       "      <th>3473</th>\n",
       "      <td>delicious wish take reservation friend fiance ...</td>\n",
       "      <td>1.0</td>\n",
       "      <td>0.056</td>\n",
       "      <td>0.507</td>\n",
       "      <td>0.437</td>\n",
       "      <td>0.9937</td>\n",
       "    </tr>\n",
       "    <tr>\n",
       "      <th>3480</th>\n",
       "      <td>im sure havent write review pi time time take ...</td>\n",
       "      <td>1.0</td>\n",
       "      <td>0.078</td>\n",
       "      <td>0.605</td>\n",
       "      <td>0.318</td>\n",
       "      <td>0.9657</td>\n",
       "    </tr>\n",
       "    <tr>\n",
       "      <th>3482</th>\n",
       "      <td>deep dish pizza fantastic like reviewer mentio...</td>\n",
       "      <td>1.0</td>\n",
       "      <td>0.023</td>\n",
       "      <td>0.718</td>\n",
       "      <td>0.260</td>\n",
       "      <td>0.9806</td>\n",
       "    </tr>\n",
       "  </tbody>\n",
       "</table>\n",
       "</div>"
      ],
      "text/plain": [
       "                                                   text  pos_rating    neg  \\\n",
       "2527  nice italian restauranthowever previous visit ...         0.0  0.103   \n",
       "3471  today ethiopian food fiasco see selam review l...         1.0  0.046   \n",
       "3473  delicious wish take reservation friend fiance ...         1.0  0.056   \n",
       "3480  im sure havent write review pi time time take ...         1.0  0.078   \n",
       "3482  deep dish pizza fantastic like reviewer mentio...         1.0  0.023   \n",
       "\n",
       "        neu    pos  compound  \n",
       "2527  0.675  0.221    0.9840  \n",
       "3471  0.779  0.175    0.8519  \n",
       "3473  0.507  0.437    0.9937  \n",
       "3480  0.605  0.318    0.9657  \n",
       "3482  0.718  0.260    0.9806  "
      ]
     },
     "execution_count": 8,
     "metadata": {},
     "output_type": "execute_result"
    }
   ],
   "source": [
    "df.head()"
   ]
  },
  {
   "cell_type": "code",
   "execution_count": 9,
   "id": "7cc85ebb-053e-47b2-bc46-e5a828e704b0",
   "metadata": {},
   "outputs": [
    {
     "data": {
      "text/plain": [
       "1.0    0.736718\n",
       "0.0    0.263282\n",
       "Name: pos_rating, dtype: float64"
      ]
     },
     "execution_count": 9,
     "metadata": {},
     "output_type": "execute_result"
    }
   ],
   "source": [
    "# Determine how many of the reviews have a positive rating (i.e., 1.0 = 4+ stars)\n",
    "df['pos_rating'].value_counts(normalize=True)"
   ]
  },
  {
   "cell_type": "code",
   "execution_count": 10,
   "id": "dda74262-5e8e-406b-807b-eb82c5997848",
   "metadata": {},
   "outputs": [
    {
     "data": {
      "text/plain": [
       "text          0.940231\n",
       "pos_rating    0.940231\n",
       "neg           0.940231\n",
       "neu           0.940231\n",
       "pos           0.940231\n",
       "compound      0.940231\n",
       "dtype: float64"
      ]
     },
     "execution_count": 10,
     "metadata": {},
     "output_type": "execute_result"
    }
   ],
   "source": [
    "# Determine how many of the reviews have a positive sentiment\n",
    "(df[df['compound']>0.05].count())/df.shape[0]"
   ]
  },
  {
   "cell_type": "markdown",
   "id": "a41109cb-8845-45fe-a265-afd1eb158818",
   "metadata": {},
   "source": [
    "<div class=\"alert alert-block alert-info\">\n",
    "    About 94% of the reviews are considered to be positive. However, only 74% of the reviews were a 4 or 5. \n",
    "</div>"
   ]
  },
  {
   "cell_type": "markdown",
   "id": "01142ef8-d2db-44db-be13-59d63f69f00b",
   "metadata": {},
   "source": [
    "### Top Positive and Top Negative Comments"
   ]
  },
  {
   "cell_type": "code",
   "execution_count": 11,
   "id": "3fc11cc7-6d73-4388-96be-f2045d2a0911",
   "metadata": {},
   "outputs": [],
   "source": [
    "# Add number of characters column\n",
    "df['nb_chars'] = df['text'].apply(lambda x: len(x))\n",
    "\n",
    "# Add number of words column\n",
    "df['nb_words'] = df['text'].apply(lambda x: len(x.split(\" \")))"
   ]
  },
  {
   "cell_type": "code",
   "execution_count": 12,
   "id": "29b36a84-a567-4304-adf8-f6a7fc1eec32",
   "metadata": {},
   "outputs": [
    {
     "data": {
      "text/html": [
       "<div>\n",
       "<style scoped>\n",
       "    .dataframe tbody tr th:only-of-type {\n",
       "        vertical-align: middle;\n",
       "    }\n",
       "\n",
       "    .dataframe tbody tr th {\n",
       "        vertical-align: top;\n",
       "    }\n",
       "\n",
       "    .dataframe thead th {\n",
       "        text-align: right;\n",
       "    }\n",
       "</style>\n",
       "<table border=\"1\" class=\"dataframe\">\n",
       "  <thead>\n",
       "    <tr style=\"text-align: right;\">\n",
       "      <th></th>\n",
       "      <th>text</th>\n",
       "      <th>pos</th>\n",
       "    </tr>\n",
       "  </thead>\n",
       "  <tbody>\n",
       "    <tr>\n",
       "      <th>249927</th>\n",
       "      <td>awesome deep dish great friendly efficient ser...</td>\n",
       "      <td>0.802</td>\n",
       "    </tr>\n",
       "    <tr>\n",
       "      <th>164904</th>\n",
       "      <td>love place deep dish pizza good salad pretty g...</td>\n",
       "      <td>0.767</td>\n",
       "    </tr>\n",
       "    <tr>\n",
       "      <th>209528</th>\n",
       "      <td>love place great food great service love deep ...</td>\n",
       "      <td>0.751</td>\n",
       "    </tr>\n",
       "    <tr>\n",
       "      <th>65476</th>\n",
       "      <td>fantastic pizza great service staff friendly i...</td>\n",
       "      <td>0.750</td>\n",
       "    </tr>\n",
       "    <tr>\n",
       "      <th>3579</th>\n",
       "      <td>amaze happy hour special great food great serv...</td>\n",
       "      <td>0.746</td>\n",
       "    </tr>\n",
       "    <tr>\n",
       "      <th>34302</th>\n",
       "      <td>best best dare find good deepdish pizza</td>\n",
       "      <td>0.739</td>\n",
       "    </tr>\n",
       "    <tr>\n",
       "      <th>78732</th>\n",
       "      <td>tuesday special always great good food great v...</td>\n",
       "      <td>0.739</td>\n",
       "    </tr>\n",
       "    <tr>\n",
       "      <th>70517</th>\n",
       "      <td>love deep dish pizza amazing</td>\n",
       "      <td>0.727</td>\n",
       "    </tr>\n",
       "    <tr>\n",
       "      <th>327141</th>\n",
       "      <td>staff super helpful sweet server joe amaze sup...</td>\n",
       "      <td>0.720</td>\n",
       "    </tr>\n",
       "    <tr>\n",
       "      <th>188462</th>\n",
       "      <td>awesome chicagostyle deep dish cheesy saucy li...</td>\n",
       "      <td>0.719</td>\n",
       "    </tr>\n",
       "  </tbody>\n",
       "</table>\n",
       "</div>"
      ],
      "text/plain": [
       "                                                     text    pos\n",
       "249927  awesome deep dish great friendly efficient ser...  0.802\n",
       "164904  love place deep dish pizza good salad pretty g...  0.767\n",
       "209528  love place great food great service love deep ...  0.751\n",
       "65476   fantastic pizza great service staff friendly i...  0.750\n",
       "3579    amaze happy hour special great food great serv...  0.746\n",
       "34302             best best dare find good deepdish pizza  0.739\n",
       "78732   tuesday special always great good food great v...  0.739\n",
       "70517                        love deep dish pizza amazing  0.727\n",
       "327141  staff super helpful sweet server joe amaze sup...  0.720\n",
       "188462  awesome chicagostyle deep dish cheesy saucy li...  0.719"
      ]
     },
     "execution_count": 12,
     "metadata": {},
     "output_type": "execute_result"
    }
   ],
   "source": [
    "# Determine the Hhghest positive sentiment reviews (with more than 5 words)\n",
    "df[df[\"nb_words\"] >= 5].sort_values(\"pos\", ascending = False)[[\"text\", \"pos\"]].head(10)"
   ]
  },
  {
   "cell_type": "code",
   "execution_count": 13,
   "id": "e4688a0d-f7a4-409b-93e8-e9516c57af6a",
   "metadata": {},
   "outputs": [
    {
     "data": {
      "text/html": [
       "<div>\n",
       "<style scoped>\n",
       "    .dataframe tbody tr th:only-of-type {\n",
       "        vertical-align: middle;\n",
       "    }\n",
       "\n",
       "    .dataframe tbody tr th {\n",
       "        vertical-align: top;\n",
       "    }\n",
       "\n",
       "    .dataframe thead th {\n",
       "        text-align: right;\n",
       "    }\n",
       "</style>\n",
       "<table border=\"1\" class=\"dataframe\">\n",
       "  <thead>\n",
       "    <tr style=\"text-align: right;\">\n",
       "      <th></th>\n",
       "      <th>text</th>\n",
       "      <th>neg</th>\n",
       "    </tr>\n",
       "  </thead>\n",
       "  <tbody>\n",
       "    <tr>\n",
       "      <th>281738</th>\n",
       "      <td>deep dish die mouth water think wait worth</td>\n",
       "      <td>0.331</td>\n",
       "    </tr>\n",
       "    <tr>\n",
       "      <th>188291</th>\n",
       "      <td>happy experience server ownermanager whatever ...</td>\n",
       "      <td>0.321</td>\n",
       "    </tr>\n",
       "    <tr>\n",
       "      <th>189211</th>\n",
       "      <td>hard mess deep dish pizza love bread fan year ...</td>\n",
       "      <td>0.315</td>\n",
       "    </tr>\n",
       "    <tr>\n",
       "      <th>135110</th>\n",
       "      <td>sure hype call deep dish pizza insult chicago ...</td>\n",
       "      <td>0.312</td>\n",
       "    </tr>\n",
       "    <tr>\n",
       "      <th>326264</th>\n",
       "      <td>really hate people think good deep dish pizza</td>\n",
       "      <td>0.310</td>\n",
       "    </tr>\n",
       "    <tr>\n",
       "      <th>206802</th>\n",
       "      <td>get flat pizza get pan pizza 100x good flat ac...</td>\n",
       "      <td>0.309</td>\n",
       "    </tr>\n",
       "    <tr>\n",
       "      <th>330298</th>\n",
       "      <td>go beer food time deep dish style pizza ok som...</td>\n",
       "      <td>0.308</td>\n",
       "    </tr>\n",
       "    <tr>\n",
       "      <th>99655</th>\n",
       "      <td>dont know blue haired girl incompetent make di...</td>\n",
       "      <td>0.301</td>\n",
       "    </tr>\n",
       "    <tr>\n",
       "      <th>188354</th>\n",
       "      <td>sad food good service horrendous weve come yea...</td>\n",
       "      <td>0.298</td>\n",
       "    </tr>\n",
       "    <tr>\n",
       "      <th>202094</th>\n",
       "      <td>one place deliver house give shoot really good...</td>\n",
       "      <td>0.298</td>\n",
       "    </tr>\n",
       "  </tbody>\n",
       "</table>\n",
       "</div>"
      ],
      "text/plain": [
       "                                                     text    neg\n",
       "281738         deep dish die mouth water think wait worth  0.331\n",
       "188291  happy experience server ownermanager whatever ...  0.321\n",
       "189211  hard mess deep dish pizza love bread fan year ...  0.315\n",
       "135110  sure hype call deep dish pizza insult chicago ...  0.312\n",
       "326264      really hate people think good deep dish pizza  0.310\n",
       "206802  get flat pizza get pan pizza 100x good flat ac...  0.309\n",
       "330298  go beer food time deep dish style pizza ok som...  0.308\n",
       "99655   dont know blue haired girl incompetent make di...  0.301\n",
       "188354  sad food good service horrendous weve come yea...  0.298\n",
       "202094  one place deliver house give shoot really good...  0.298"
      ]
     },
     "execution_count": 13,
     "metadata": {},
     "output_type": "execute_result"
    }
   ],
   "source": [
    "# Determine the lowest negative sentiment reviews (with more than 5 words)\n",
    "df[df[\"nb_words\"] >= 5].sort_values(\"neg\", ascending = False)[[\"text\", \"neg\"]].head(10)"
   ]
  },
  {
   "cell_type": "code",
   "execution_count": 14,
   "id": "98b36447-c7bd-4955-9145-218b4e6d4e2d",
   "metadata": {},
   "outputs": [
    {
     "data": {
      "image/png": "[encoded data removed]",
      "text/plain": [
       "<Figure size 432x288 with 1 Axes>"
      ]
     },
     "metadata": {
      "needs_background": "light"
     },
     "output_type": "display_data"
    }
   ],
   "source": [
    "# Plot sentiment distribution for reviews\n",
    "_ = sns.kdeplot(data=df, x='compound').set(title='Distribution of Compound Scores')\n",
    "plt.show()"
   ]
  },
  {
   "cell_type": "markdown",
   "id": "de8b1fe2-8a05-4f9a-b039-fbc04b2c88fb",
   "metadata": {},
   "source": [
    "## Split into Testing and Training Datasets"
   ]
  },
  {
   "cell_type": "code",
   "execution_count": 15,
   "id": "527b6c02-585e-42b5-8919-19fe408a9d35",
   "metadata": {},
   "outputs": [],
   "source": [
    "# Split the dataset for training and testing\n",
    "X = df['text']\n",
    "y = df['pos_rating']\n",
    "X_train, X_test, y_train, y_test = train_test_split(X, y, test_size=0.2, random_state=42)"
   ]
  },
  {
   "cell_type": "code",
   "execution_count": 16,
   "id": "8c854ef1-9d2e-4663-be10-1494e03ceeb0",
   "metadata": {},
   "outputs": [
    {
     "data": {
      "text/plain": [
       "((3734,), (934,))"
      ]
     },
     "execution_count": 16,
     "metadata": {},
     "output_type": "execute_result"
    }
   ],
   "source": [
    "# Confirm size of X_train and X_test\n",
    "X_train.shape, X_test.shape"
   ]
  },
  {
   "cell_type": "markdown",
   "id": "1968dfb8-a8f8-4360-b7f2-142f66eab214",
   "metadata": {},
   "source": [
    "## Modeling"
   ]
  },
  {
   "cell_type": "markdown",
   "id": "f14d6867-5f72-44fa-9dff-1d95f42750d3",
   "metadata": {},
   "source": [
    "### Naive Bayes Classifer for Multinomial Models"
   ]
  },
  {
   "cell_type": "code",
   "execution_count": 17,
   "id": "819484c8-4e00-49ab-a81d-bea869ae8523",
   "metadata": {},
   "outputs": [
    {
     "data": {
      "text/plain": [
       "Pipeline(steps=[('vect', CountVectorizer()), ('tfidf', TfidfTransformer()),\n",
       "                ('clf', MultinomialNB())])"
      ]
     },
     "execution_count": 17,
     "metadata": {},
     "output_type": "execute_result"
    }
   ],
   "source": [
    "# Use Pipeline to fit the model\n",
    "nb = Pipeline([('vect', CountVectorizer()),\n",
    "               ('tfidf', TfidfTransformer()),\n",
    "               ('clf', MultinomialNB()),\n",
    "              ])\n",
    "nb.fit(X_train, y_train)"
   ]
  },
  {
   "cell_type": "code",
   "execution_count": 18,
   "id": "f2abab86-8058-4e0f-b4fe-f6ba3dcda7d1",
   "metadata": {},
   "outputs": [
    {
     "name": "stdout",
     "output_type": "stream",
     "text": [
      "Accuracy of Naive Bayes: 0.7291220556745182\n",
      "F1-Score of Naive Bayes: 0.8429546865301055\n",
      "Lift Score of Naive Bayes: 1.002145922746781\n",
      " \n",
      " \n",
      "              precision    recall  f1-score   support\n",
      "\n",
      "         0.0       1.00      0.01      0.02       255\n",
      "         1.0       0.73      1.00      0.84       679\n",
      "\n",
      "    accuracy                           0.73       934\n",
      "   macro avg       0.86      0.50      0.43       934\n",
      "weighted avg       0.80      0.73      0.62       934\n",
      "\n"
     ]
    }
   ],
   "source": [
    "# Determine the accuracy of the model\n",
    "y_pred_nb = nb.predict(X_test)\n",
    "accuracy_nb=nb.score(X_test,y_test)\n",
    "f1_nb = f1_score(y_test, y_pred_nb)\n",
    "lift_nb = lift_score(y_test, y_pred_nb)\n",
    "\n",
    "print('Accuracy of Naive Bayes:', accuracy_nb)\n",
    "print('F1-Score of Naive Bayes:', f1_nb)\n",
    "print('Lift Score of Naive Bayes:', lift_nb)\n",
    "print(' ')\n",
    "print(' ')\n",
    "print(classification_report(y_test, y_pred_nb))"
   ]
  },
  {
   "cell_type": "code",
   "execution_count": 19,
   "id": "6bf17e24-df7e-4d58-9f72-33a3e321a1e8",
   "metadata": {},
   "outputs": [
    {
     "name": "stdout",
     "output_type": "stream",
     "text": [
      "[0.81646482 0.79065744 0.80132641 0.78474625 0.79099492]\n",
      "Mean cross validation test score: 0.7968379683027896\n",
      "Mean cross validation train score: 0.8196616441977268\n",
      "Standard deviation in cv test scores: 0.0\n"
     ]
    }
   ],
   "source": [
    "# Cross validation\n",
    "cv_scores_nb_test = cross_val_score(nb,X_test,y_test,cv=5,scoring='roc_auc')\n",
    "cv_scores_nb_train = cross_val_score(nb,X_train,y_train,cv=5,scoring='roc_auc')\n",
    "print(cv_scores_nb_test)\n",
    "cv_scores_nb_test = cv_scores_nb_test.mean()\n",
    "cv_scores_nb_train = cv_scores_nb_train.mean()\n",
    "cv_scores_std_test_nb = cv_scores_nb_test.std()\n",
    "print ('Mean cross validation test score: ' +str(cv_scores_nb_test))\n",
    "print ('Mean cross validation train score: ' +str(cv_scores_nb_train))\n",
    "print ('Standard deviation in cv test scores: ' +str(cv_scores_std_test_nb))"
   ]
  },
  {
   "cell_type": "markdown",
   "id": "47241023-526f-4f4d-9709-df8711021fd1",
   "metadata": {},
   "source": [
    "### Logistic Regression"
   ]
  },
  {
   "cell_type": "code",
   "execution_count": 20,
   "id": "e23f7ed5-60d7-4b5d-aa82-fa78ec6cd13b",
   "metadata": {},
   "outputs": [
    {
     "data": {
      "text/plain": [
       "Pipeline(steps=[('vect', CountVectorizer()), ('tfidf', TfidfTransformer()),\n",
       "                ('clf', LogisticRegression(max_iter=1000))])"
      ]
     },
     "execution_count": 20,
     "metadata": {},
     "output_type": "execute_result"
    }
   ],
   "source": [
    "# Use Pipeline to fit the model\n",
    "lr = Pipeline([('vect', CountVectorizer()),\n",
    "               ('tfidf', TfidfTransformer()),\n",
    "               ('clf', LogisticRegression(max_iter=1000)),\n",
    "              ])\n",
    "lr.fit(X_train, y_train)"
   ]
  },
  {
   "cell_type": "code",
   "execution_count": 21,
   "id": "85678415-1b51-45d7-a722-df0626d2dc54",
   "metadata": {},
   "outputs": [
    {
     "name": "stdout",
     "output_type": "stream",
     "text": [
      "Accuracy of Logistic Regression: 0.8511777301927195\n",
      "F1-Score of Logistic Regression: 0.9053778080326752\n",
      "Lift Score of Logistic Regression: 1.15790160511549\n",
      " \n",
      " \n",
      "              precision    recall  f1-score   support\n",
      "\n",
      "         0.0       0.90      0.51      0.65       255\n",
      "         1.0       0.84      0.98      0.91       679\n",
      "\n",
      "    accuracy                           0.85       934\n",
      "   macro avg       0.87      0.74      0.78       934\n",
      "weighted avg       0.86      0.85      0.84       934\n",
      "\n"
     ]
    }
   ],
   "source": [
    "# Determine the accuracy of the model\n",
    "y_pred_lr = lr.predict(X_test)\n",
    "accuracy_lr = lr.score(X_test,y_test)\n",
    "f1_lr = f1_score(y_test, y_pred_lr)\n",
    "lift_lr = lift_score(y_test, y_pred_lr)\n",
    "\n",
    "print('Accuracy of Logistic Regression:', accuracy_lr)\n",
    "print('F1-Score of Logistic Regression:', f1_lr)\n",
    "print('Lift Score of Logistic Regression:', lift_lr)\n",
    "print(' ')\n",
    "print(' ')\n",
    "print(classification_report(y_test, y_pred_lr))"
   ]
  },
  {
   "cell_type": "code",
   "execution_count": 22,
   "id": "f419d7f5-f6cb-4621-b0de-699642ba3e8c",
   "metadata": {},
   "outputs": [
    {
     "name": "stdout",
     "output_type": "stream",
     "text": [
      "[0.90643022 0.91147636 0.82439446 0.86894464 0.83064633]\n",
      "Mean cross validation test score: 0.8683784014695203\n",
      "Mean cross validation train score: 0.890317716174955\n",
      "Standard deviation in cv test scores: 0.0\n"
     ]
    }
   ],
   "source": [
    "# Cross validation\n",
    "cv_scores_lr_test = cross_val_score(lr,X_test,y_test,cv=5,scoring='roc_auc')\n",
    "cv_scores_lr_train = cross_val_score(lr,X_train,y_train,cv=5,scoring='roc_auc')\n",
    "print(cv_scores_lr_test)\n",
    "cv_scores_lr_test = cv_scores_lr_test.mean()\n",
    "cv_scores_lr_train = cv_scores_lr_train.mean()\n",
    "cv_scores_std_test_lr = cv_scores_lr_test.std()\n",
    "print ('Mean cross validation test score: ' +str(cv_scores_lr_test))\n",
    "print ('Mean cross validation train score: ' +str(cv_scores_lr_train))\n",
    "print ('Standard deviation in cv test scores: ' +str(cv_scores_std_test_lr))"
   ]
  },
  {
   "cell_type": "markdown",
   "id": "c3691196-3eb6-4282-a7d5-14ebe5063bc4",
   "metadata": {},
   "source": [
    "### Random Forest Classifer"
   ]
  },
  {
   "cell_type": "code",
   "execution_count": 23,
   "id": "13018128-a6fb-4fa2-90a5-56baa8f12754",
   "metadata": {},
   "outputs": [
    {
     "data": {
      "text/plain": [
       "Pipeline(steps=[('vect', CountVectorizer()), ('tfidf', TfidfTransformer()),\n",
       "                ('clf', RandomForestClassifier(random_state=42))])"
      ]
     },
     "execution_count": 23,
     "metadata": {},
     "output_type": "execute_result"
    }
   ],
   "source": [
    "# Use Pipeline to fit the model\n",
    "rf = Pipeline([('vect', CountVectorizer()),\n",
    "               ('tfidf', TfidfTransformer()),\n",
    "               ('clf', RandomForestClassifier(n_estimators = 100, random_state = 42)),\n",
    "              ])\n",
    "rf.fit(X_train, y_train)"
   ]
  },
  {
   "cell_type": "code",
   "execution_count": 24,
   "id": "c3c1668b-ae1a-4e83-b3d0-9e40a20bfa44",
   "metadata": {},
   "outputs": [
    {
     "name": "stdout",
     "output_type": "stream",
     "text": [
      "Accuracy of Random Forest Classifer: 0.7762312633832976\n",
      "F1-Score of Random Forest Classifer: 0.8655948553054663\n",
      "Lift Score of Random Forest Classifer: 1.056788454684232\n",
      " \n",
      " \n",
      "              precision    recall  f1-score   support\n",
      "\n",
      "         0.0       0.90      0.20      0.33       255\n",
      "         1.0       0.77      0.99      0.87       679\n",
      "\n",
      "    accuracy                           0.78       934\n",
      "   macro avg       0.83      0.60      0.60       934\n",
      "weighted avg       0.80      0.78      0.72       934\n",
      "\n"
     ]
    }
   ],
   "source": [
    "# Determine the accuracy of the model\n",
    "y_pred_rf = rf.predict(X_test)\n",
    "accuracy_rf = rf.score(X_test,y_test)\n",
    "f1_rf = f1_score(y_test, y_pred_rf)\n",
    "lift_rf = lift_score(y_test, y_pred_rf)\n",
    "\n",
    "print('Accuracy of Random Forest Classifer:', accuracy_rf)\n",
    "print('F1-Score of Random Forest Classifer:', f1_rf)\n",
    "print('Lift Score of Random Forest Classifer:', lift_rf)\n",
    "print(' ')\n",
    "print(' ')\n",
    "print(classification_report(y_test, y_pred_rf))"
   ]
  },
  {
   "cell_type": "code",
   "execution_count": 25,
   "id": "ecc35fce-6dbd-4458-afa1-6e174a20a815",
   "metadata": {},
   "outputs": [
    {
     "name": "stdout",
     "output_type": "stream",
     "text": [
      "[0.85200404 0.85899654 0.78078143 0.79901961 0.78612927]\n",
      "Mean cross validation test score: 0.8153861762569952\n",
      "Mean cross validation train score: 0.8598206411597268\n",
      "Standard deviation in cv test scores: 0.0\n"
     ]
    }
   ],
   "source": [
    "# Cross validation\n",
    "cv_scores_rf_test = cross_val_score(rf,X_test,y_test,cv=5,scoring='roc_auc')\n",
    "cv_scores_rf_train = cross_val_score(rf,X_train,y_train,cv=5,scoring='roc_auc')\n",
    "print(cv_scores_rf_test)\n",
    "cv_scores_rf_test = cv_scores_rf_test.mean()\n",
    "cv_scores_rf_train = cv_scores_rf_train.mean()\n",
    "cv_scores_std_test_rf = cv_scores_rf_test.std()\n",
    "print ('Mean cross validation test score: ' +str(cv_scores_rf_test))\n",
    "print ('Mean cross validation train score: ' +str(cv_scores_rf_train))\n",
    "print ('Standard deviation in cv test scores: ' +str(cv_scores_std_test_rf))"
   ]
  },
  {
   "cell_type": "markdown",
   "id": "366d834a-83c7-4833-8682-303d61bb649f",
   "metadata": {
    "tags": []
   },
   "source": [
    "## Model Comparison"
   ]
  },
  {
   "cell_type": "code",
   "execution_count": 26,
   "id": "dc8a82d8-3c26-4e0c-ae21-1d4244488bf5",
   "metadata": {},
   "outputs": [
    {
     "data": {
      "text/html": [
       "<div>\n",
       "<style scoped>\n",
       "    .dataframe tbody tr th:only-of-type {\n",
       "        vertical-align: middle;\n",
       "    }\n",
       "\n",
       "    .dataframe tbody tr th {\n",
       "        vertical-align: top;\n",
       "    }\n",
       "\n",
       "    .dataframe thead th {\n",
       "        text-align: right;\n",
       "    }\n",
       "</style>\n",
       "<table border=\"1\" class=\"dataframe\">\n",
       "  <thead>\n",
       "    <tr style=\"text-align: right;\">\n",
       "      <th></th>\n",
       "      <th>Algorithm</th>\n",
       "      <th>Model accuracy score</th>\n",
       "      <th>Model F1 score</th>\n",
       "      <th>Model Lift score</th>\n",
       "      <th>ROC-AUC train score</th>\n",
       "      <th>ROC-AUC test score</th>\n",
       "    </tr>\n",
       "  </thead>\n",
       "  <tbody>\n",
       "    <tr>\n",
       "      <th>0</th>\n",
       "      <td>Naive Bayes</td>\n",
       "      <td>0.729122</td>\n",
       "      <td>0.842955</td>\n",
       "      <td>1.002146</td>\n",
       "      <td>0.819662</td>\n",
       "      <td>0.796838</td>\n",
       "    </tr>\n",
       "    <tr>\n",
       "      <th>1</th>\n",
       "      <td>Logistic Regression</td>\n",
       "      <td>0.851178</td>\n",
       "      <td>0.905378</td>\n",
       "      <td>1.157902</td>\n",
       "      <td>0.890318</td>\n",
       "      <td>0.868378</td>\n",
       "    </tr>\n",
       "    <tr>\n",
       "      <th>2</th>\n",
       "      <td>Random Forest</td>\n",
       "      <td>0.776231</td>\n",
       "      <td>0.865595</td>\n",
       "      <td>1.056788</td>\n",
       "      <td>0.859821</td>\n",
       "      <td>0.815386</td>\n",
       "    </tr>\n",
       "  </tbody>\n",
       "</table>\n",
       "</div>"
      ],
      "text/plain": [
       "             Algorithm  Model accuracy score  Model F1 score  \\\n",
       "0          Naive Bayes              0.729122        0.842955   \n",
       "1  Logistic Regression              0.851178        0.905378   \n",
       "2        Random Forest              0.776231        0.865595   \n",
       "\n",
       "   Model Lift score  ROC-AUC train score  ROC-AUC test score  \n",
       "0          1.002146             0.819662            0.796838  \n",
       "1          1.157902             0.890318            0.868378  \n",
       "2          1.056788             0.859821            0.815386  "
      ]
     },
     "execution_count": 26,
     "metadata": {},
     "output_type": "execute_result"
    }
   ],
   "source": [
    "#Compare model by score and accuracy\n",
    "myLabels = ['Naive Bayes', 'Logistic Regression','Random Forest']\n",
    "score_test= [cv_scores_nb_test, cv_scores_lr_test, cv_scores_rf_test]\n",
    "score_train= [cv_scores_nb_train, cv_scores_lr_train, cv_scores_rf_train]\n",
    "accuracy_score = [accuracy_nb, accuracy_lr, accuracy_rf]\n",
    "f1_score = [f1_nb, f1_lr, f1_rf]\n",
    "lift_score = [lift_nb, lift_lr, lift_rf]\n",
    "\n",
    "score_tab_acc = pd.DataFrame(list(zip(myLabels, accuracy_score)), \n",
    "               columns =['Algorithm', 'Model accuracy score']) \n",
    "\n",
    "score_tab_f1 = pd.DataFrame(list(zip(myLabels, f1_score)), \n",
    "               columns =['Algorithm', 'Model F1 score']) \n",
    "\n",
    "score_tab_lift = pd.DataFrame(list(zip(myLabels, lift_score)), \n",
    "               columns =['Algorithm', 'Model Lift score']) \n",
    "\n",
    "score_tab = pd.DataFrame(list(zip(myLabels, score_train, score_test)), \n",
    "               columns =['Algorithm', 'ROC-AUC train score', 'ROC-AUC test score' ]) \n",
    "\n",
    "\n",
    "combined_score_tabs = score_tab_acc.merge(score_tab_f1,on='Algorithm').merge(score_tab_lift,on='Algorithm').merge(score_tab,on='Algorithm')\n",
    "combined_score_tabs"
   ]
  },
  {
   "cell_type": "markdown",
   "id": "3bfecf78-e3f9-47d0-b65a-a369828786f4",
   "metadata": {},
   "source": [
    "<div class=\"alert alert-block alert-info\">\n",
    "    <b>Logistic Regression is the highest perfomring model across all metrics.</b>\n",
    "</div>"
   ]
  },
  {
   "cell_type": "code",
   "execution_count": 27,
   "id": "d66e0e4a-d815-4094-b7e8-f326e22307fb",
   "metadata": {},
   "outputs": [
    {
     "data": {
      "image/png": "[encoded data removed]",
      "text/plain": [
       "<Figure size 720x360 with 1 Axes>"
      ]
     },
     "metadata": {
      "needs_background": "light"
     },
     "output_type": "display_data"
    },
    {
     "data": {
      "image/png": "[encoded data removed]",
      "text/plain": [
       "<Figure size 720x360 with 1 Axes>"
      ]
     },
     "metadata": {
      "needs_background": "light"
     },
     "output_type": "display_data"
    },
    {
     "data": {
      "image/png": "[encoded data removed]",
      "text/plain": [
       "<Figure size 720x360 with 1 Axes>"
      ]
     },
     "metadata": {
      "needs_background": "light"
     },
     "output_type": "display_data"
    },
    {
     "data": {
      "image/png": "[encoded data removed]",
      "text/plain": [
       "<Figure size 720x360 with 1 Axes>"
      ]
     },
     "metadata": {
      "needs_background": "light"
     },
     "output_type": "display_data"
    }
   ],
   "source": [
    "#Plot the accuracy scores:\n",
    "index=[1, 2, 3]\n",
    "index_acc=[1.2,2.2,3.2]\n",
    "plt.figure(figsize=(10,5))\n",
    "plt.xlabel('Models',fontsize=15)\n",
    "plt.ylabel ('Model accuracy scores',fontsize=15)\n",
    "plt.title('Comparison of the algorithms',fontsize=15)\n",
    "_=plt.bar(index_acc, accuracy_score,color='coral',alpha=0.8,label='Accuracy score',edgecolor='k',width=0.3)\n",
    "plt.xticks([1, 2, 3], myLabels)\n",
    "plt.show()\n",
    "\n",
    "#Plot the F1 scores:\n",
    "index=[1, 2, 3]\n",
    "index_acc=[1.2,2.2,3.2]\n",
    "plt.figure(figsize=(10,5))\n",
    "plt.xlabel('Models',fontsize=15)\n",
    "plt.ylabel ('Model F1 scores',fontsize=15)\n",
    "plt.title('Comparison of the algorithms',fontsize=15)\n",
    "_=plt.bar(index_acc,f1_score,color='coral',alpha=0.8,label='F1 score',edgecolor='k',width=0.3)\n",
    "plt.xticks([1, 2, 3], myLabels)\n",
    "\n",
    "plt.show()\n",
    "\n",
    "#Plott the Lift scores:\n",
    "index=[1, 2, 3]\n",
    "index_acc=[1.2,2.2,3.2]\n",
    "plt.figure(figsize=(10,5))\n",
    "plt.xlabel('Models',fontsize=15)\n",
    "plt.ylabel ('Model Lift scores',fontsize=15)\n",
    "plt.title('Comparison of the algorithms',fontsize=15)\n",
    "_=plt.bar(index_acc,lift_score,color='coral',alpha=0.8,label='Lift score',edgecolor='k',width=0.3)\n",
    "plt.xticks([1, 2, 3], myLabels)\n",
    "\n",
    "plt.show()\n",
    "\n",
    "#Plot the ROC-AUC train/test scores:\n",
    "\n",
    "index=[1, 2, 3]\n",
    "index_acc=[1.2,2.2,3.2]\n",
    "plt.figure(figsize=(10,5))\n",
    "plt.xlabel('Models',fontsize=15)\n",
    "plt.ylabel ('ROC-AUC scores',fontsize=15)\n",
    "plt.title('Comparison of the algorithms',fontsize=15)\n",
    "_=plt.bar(index,score_train,color='b',alpha=0.6,label='Training score',edgecolor='k',width=0.2)\n",
    "_=plt.bar(index_acc,score_test,color='cyan',alpha=0.8,label='Test score',edgecolor='k',width=0.2)\n",
    "plt.xticks([1, 2, 3], myLabels)\n",
    "plt.legend()\n",
    "plt.show()"
   ]
  },
  {
   "cell_type": "markdown",
   "id": "a225e8a7-777a-4fcb-b9cd-afbf599ec77d",
   "metadata": {
    "tags": []
   },
   "source": [
    "## Hyper Parameter Tuning"
   ]
  },
  {
   "cell_type": "markdown",
   "id": "8b868cdd-7ce3-449e-b22a-0bec6289800f",
   "metadata": {},
   "source": [
    "### Logistic Regression"
   ]
  },
  {
   "cell_type": "code",
   "execution_count": 28,
   "id": "2bba5a78-1f4d-484b-bbad-605a3a61e251",
   "metadata": {},
   "outputs": [
    {
     "name": "stdout",
     "output_type": "stream",
     "text": [
      "Pipeline(steps=[('vect', CountVectorizer()), ('tfidf', TfidfTransformer()),\n",
      "                ('clf', LogisticRegression(C=10, max_iter=1000))])\n",
      "0.8484224655548018\n"
     ]
    }
   ],
   "source": [
    "# Do a grid search\n",
    "param_grid = [{\n",
    "    'clf__C': [0.001, 0.01, 0.1, 1, 10, 100, 1000] \n",
    "}]\n",
    "\n",
    "gs = GridSearchCV(estimator=lr, param_grid=param_grid, cv=5, n_jobs=-1)\n",
    "\n",
    "gs = gs.fit(X_train, y_train)\n",
    "\n",
    "print(gs.best_estimator_) \n",
    "print(gs.best_score_)"
   ]
  },
  {
   "cell_type": "code",
   "execution_count": 29,
   "id": "f850476b-9440-4d1f-bf50-a363a5f5f14b",
   "metadata": {},
   "outputs": [
    {
     "data": {
      "text/plain": [
       "Pipeline(steps=[('vect', CountVectorizer()), ('tfidf', TfidfTransformer()),\n",
       "                ('clf', LogisticRegression(C=10, max_iter=1000))])"
      ]
     },
     "execution_count": 29,
     "metadata": {},
     "output_type": "execute_result"
    }
   ],
   "source": [
    "# Fit the model using the grid search parameters\n",
    "# Use Pipeline to fit the model\n",
    "lr_gs = Pipeline([('vect', CountVectorizer()),\n",
    "               ('tfidf', TfidfTransformer()),\n",
    "               ('clf', LogisticRegression(max_iter=1000, C=10)),\n",
    "              ])\n",
    "lr_gs.fit(X_train, y_train)"
   ]
  },
  {
   "cell_type": "code",
   "execution_count": 35,
   "id": "b99a9d49-bd61-4c93-aa2b-0c7176268709",
   "metadata": {},
   "outputs": [
    {
     "name": "stdout",
     "output_type": "stream",
     "text": [
      "Accuracy of Logistic Regression: 0.867237687366167\n",
      " \n",
      " \n",
      "              precision    recall  f1-score   support\n",
      "\n",
      "         0.0       0.84      0.64      0.72       255\n",
      "         1.0       0.88      0.95      0.91       679\n",
      "\n",
      "    accuracy                           0.87       934\n",
      "   macro avg       0.86      0.80      0.82       934\n",
      "weighted avg       0.86      0.87      0.86       934\n",
      "\n"
     ]
    }
   ],
   "source": [
    "# Determine the accuracy of the model\n",
    "y_pred_lr_gs = lr_gs.predict(X_test)\n",
    "accuracy_lr_gs = lr_gs.score(X_test,y_test)\n",
    "#f1_lr_gs = f1_score(y_test, y_pred_lr_gs)\n",
    "#lift_lr_gs = lift_score(y_test, y_pred_lr_gs)\n",
    "\n",
    "print('Accuracy of Logistic Regression:', accuracy_lr_gs)\n",
    "#print('F1-Score of Logistic Regression:', f1_lr_gs)\n",
    "#print('Lift Score of Logistic Regression:', lift_lr_gs)\n",
    "print(' ')\n",
    "print(' ')\n",
    "print(classification_report(y_test, y_pred_lr_gs))"
   ]
  },
  {
   "cell_type": "code",
   "execution_count": 33,
   "id": "6b0370ba-699f-45d4-9ff9-898656348ba8",
   "metadata": {},
   "outputs": [
    {
     "name": "stdout",
     "output_type": "stream",
     "text": [
      "ROC-AUC Score: 0.9178780790666783\n"
     ]
    }
   ],
   "source": [
    "#Calculate the ROC-AUC score\n",
    "y_scores_lr_gs = lr_gs.predict_proba(X_test)\n",
    "y_scores_lr_gs = y_scores_lr_gs[:,1]\n",
    "auroc = roc_auc_score(y_test, y_scores_lr_gs)\n",
    "print(\"ROC-AUC Score:\", auroc)"
   ]
  },
  {
   "cell_type": "code",
   "execution_count": 34,
   "id": "93a01cb2-bfc1-4861-b715-e6c444da457c",
   "metadata": {},
   "outputs": [
    {
     "data": {
      "image/png": "[encoded data removed]",
      "text/plain": [
       "<Figure size 720x360 with 1 Axes>"
      ]
     },
     "metadata": {
      "needs_background": "light"
     },
     "output_type": "display_data"
    }
   ],
   "source": [
    "#Create the ROC curve\n",
    "false_positive_rate, true_positive_rate, thresholds = roc_curve(y_test, y_scores_lr_gs)\n",
    "def plot_roc_curve(false_positive_rate, true_positive_rate, label=None):\n",
    "    plt.plot(false_positive_rate, true_positive_rate, linewidth=2, label=label)\n",
    "    plt.plot([0, 1], [0, 1], 'r', linewidth=4)\n",
    "    plt.axis([0, 1, 0, 1])\n",
    "    plt.xlabel('False Positive Rate (FPR)', fontsize=15)\n",
    "    plt.ylabel('True Positive Rate (TPR)', fontsize=15)\n",
    "    plt.title('ROC curve (LR)',fontsize=15)\n",
    "\n",
    "plt.figure(figsize=(10, 5))\n",
    "plot_roc_curve(false_positive_rate, true_positive_rate)\n",
    "# Save plot\n",
    "plt.savefig(f'../reports/figures/roc_curve.png')\n",
    "plt.show()"
   ]
  },
  {
   "cell_type": "code",
   "execution_count": null,
   "id": "d012dde4-1d62-475d-840d-17c2ad54a628",
   "metadata": {},
   "outputs": [],
   "source": []
  }
 ],
 "metadata": {
  "kernelspec": {
   "display_name": "Python 3 (ipykernel)",
   "language": "python",
   "name": "python3"
  },
  "language_info": {
   "codemirror_mode": {
    "name": "ipython",
    "version": 3
   },
   "file_extension": ".py",
   "mimetype": "text/x-python",
   "name": "python",
   "nbconvert_exporter": "python",
   "pygments_lexer": "ipython3",
   "version": "3.9.9"
  }
 },
 "nbformat": 4,
 "nbformat_minor": 5
}
